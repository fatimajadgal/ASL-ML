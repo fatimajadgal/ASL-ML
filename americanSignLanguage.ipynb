{
 "cells": [
  {
   "cell_type": "code",
   "execution_count": 2,
   "id": "ace5b305",
   "metadata": {},
   "outputs": [],
   "source": [
    "#Importing tensorflow and keras libraries\n",
    "import tensorflow as tf\n",
    "from tensorflow import keras\n",
    "from tensorflow.keras import layers"
   ]
  },
  {
   "cell_type": "code",
   "execution_count": 3,
   "id": "62305845",
   "metadata": {},
   "outputs": [
    {
     "name": "stdout",
     "output_type": "stream",
     "text": [
      "Model: \"sequential\"\n",
      "_________________________________________________________________\n",
      " Layer (type)                Output Shape              Param #   \n",
      "=================================================================\n",
      " conv2d (Conv2D)             (None, 62, 62, 32)        896       \n",
      "                                                                 \n",
      " max_pooling2d (MaxPooling2D  (None, 31, 31, 32)       0         \n",
      " )                                                               \n",
      "                                                                 \n",
      " conv2d_1 (Conv2D)           (None, 29, 29, 32)        9248      \n",
      "                                                                 \n",
      " max_pooling2d_1 (MaxPooling  (None, 14, 14, 32)       0         \n",
      " 2D)                                                             \n",
      "                                                                 \n",
      " flatten (Flatten)           (None, 6272)              0         \n",
      "                                                                 \n",
      " dense (Dense)               (None, 128)               802944    \n",
      "                                                                 \n",
      " dense_1 (Dense)             (None, 29)                3741      \n",
      "                                                                 \n",
      "=================================================================\n",
      "Total params: 816,829\n",
      "Trainable params: 816,829\n",
      "Non-trainable params: 0\n",
      "_________________________________________________________________\n"
     ]
    }
   ],
   "source": [
    "model1 = tf.keras.models.Sequential([\n",
    "    \n",
    "   tf.keras.layers.Conv2D(32, (3,3), activation='relu', input_shape=(64, 64,3)),\n",
    "   tf.keras.layers.MaxPooling2D(2, 2),\n",
    "    \n",
    "    tf.keras.layers.Conv2D(32, (3,3), activation='relu'),\n",
    "   tf.keras.layers.MaxPooling2D(2, 2),\n",
    "    \n",
    "   tf.keras.layers.Flatten(),\n",
    "    \n",
    "   tf.keras.layers.Dense(128, activation='relu'),\n",
    "   \n",
    "    tf.keras.layers.Dense(29, activation='softmax')\n",
    "])\n",
    "\n",
    "model1.compile(optimizer = 'adam', loss = 'categorical_crossentropy', metrics = ['accuracy'])\n",
    "\n",
    "model1.summary()"
   ]
  },
  {
   "cell_type": "code",
   "execution_count": 4,
   "id": "dbac7730",
   "metadata": {},
   "outputs": [
    {
     "name": "stdout",
     "output_type": "stream",
     "text": [
      "Found 69600 images belonging to 29 classes.\n",
      "Found 17400 images belonging to 29 classes.\n"
     ]
    }
   ],
   "source": [
    "train_datagenerator = tf.keras.preprocessing.image.ImageDataGenerator(rescale = 1./255,\n",
    "                                   shear_range = 0.2,\n",
    "                                   zoom_range = 0.2,\n",
    "                                   horizontal_flip = True,\n",
    "                                    validation_split=0.2)\n",
    "\n",
    "\n",
    "\n",
    "\n",
    "training_dataset = train_datagenerator.flow_from_directory('asl_alphabet_train/asl_alphabet_train',\n",
    "                                                 target_size = (64, 64),  # the size of the images expected in my cnn model\n",
    "                                                 batch_size = 32,\n",
    "                                                subset = 'training',\n",
    "                                                 class_mode = 'categorical')\n",
    "\n",
    "\n",
    "validation_dataset = train_datagenerator.flow_from_directory('asl_alphabet_train/asl_alphabet_train',\n",
    "                                            target_size = (64, 64),\n",
    "                                            batch_size = 32,\n",
    "                                            subset = 'validation',\n",
    "                                            class_mode = 'categorical')"
   ]
  },
  {
   "cell_type": "code",
   "execution_count": 5,
   "id": "a91c4ff2",
   "metadata": {
    "scrolled": true
   },
   "outputs": [
    {
     "name": "stdout",
     "output_type": "stream",
     "text": [
      "Epoch 1/25\n",
      "2175/2175 [==============================] - 1373s 630ms/step - loss: 1.3694 - accuracy: 0.5829 - val_loss: 1.9733 - val_accuracy: 0.4349\n",
      "Epoch 2/25\n",
      "2175/2175 [==============================] - 1307s 601ms/step - loss: 0.3917 - accuracy: 0.8702 - val_loss: 2.0092 - val_accuracy: 0.5157\n",
      "Epoch 3/25\n",
      "2175/2175 [==============================] - 1283s 590ms/step - loss: 0.2316 - accuracy: 0.9215 - val_loss: 1.7914 - val_accuracy: 0.5609\n",
      "Epoch 4/25\n",
      "2175/2175 [==============================] - 1588s 730ms/step - loss: 0.1664 - accuracy: 0.9431 - val_loss: 2.0602 - val_accuracy: 0.5812\n",
      "Epoch 5/25\n",
      "2175/2175 [==============================] - 1672s 769ms/step - loss: 0.1300 - accuracy: 0.9564 - val_loss: 2.0410 - val_accuracy: 0.6003\n",
      "Epoch 6/25\n",
      "2175/2175 [==============================] - 1219s 560ms/step - loss: 0.1091 - accuracy: 0.9630 - val_loss: 1.9900 - val_accuracy: 0.6225\n",
      "Epoch 7/25\n",
      "2175/2175 [==============================] - 886s 407ms/step - loss: 0.0970 - accuracy: 0.9682 - val_loss: 2.0820 - val_accuracy: 0.6025\n",
      "Epoch 8/25\n",
      "2175/2175 [==============================] - 878s 404ms/step - loss: 0.0835 - accuracy: 0.9723 - val_loss: 2.0970 - val_accuracy: 0.6220\n",
      "Epoch 9/25\n",
      "2175/2175 [==============================] - 858s 394ms/step - loss: 0.0775 - accuracy: 0.9745 - val_loss: 1.9984 - val_accuracy: 0.6260\n",
      "Epoch 10/25\n",
      "2175/2175 [==============================] - 905s 416ms/step - loss: 0.0690 - accuracy: 0.9772 - val_loss: 2.3424 - val_accuracy: 0.6168\n",
      "Epoch 11/25\n",
      "2175/2175 [==============================] - 1836s 844ms/step - loss: 0.0688 - accuracy: 0.9778 - val_loss: 2.1681 - val_accuracy: 0.6168\n",
      "Epoch 12/25\n",
      "2175/2175 [==============================] - 1713s 788ms/step - loss: 0.0608 - accuracy: 0.9794 - val_loss: 2.1557 - val_accuracy: 0.6401\n",
      "Epoch 13/25\n",
      "2175/2175 [==============================] - 1266s 582ms/step - loss: 0.0492 - accuracy: 0.9836 - val_loss: 2.6178 - val_accuracy: 0.6229\n",
      "Epoch 14/25\n",
      "2175/2175 [==============================] - 1238s 569ms/step - loss: 0.0543 - accuracy: 0.9826 - val_loss: 2.3760 - val_accuracy: 0.6436\n",
      "Epoch 15/25\n",
      "2175/2175 [==============================] - 1282s 590ms/step - loss: 0.0497 - accuracy: 0.9834 - val_loss: 2.3029 - val_accuracy: 0.6574\n",
      "Epoch 16/25\n",
      "2175/2175 [==============================] - 1138s 523ms/step - loss: 0.0471 - accuracy: 0.9850 - val_loss: 2.3355 - val_accuracy: 0.6489\n",
      "Epoch 17/25\n",
      "2175/2175 [==============================] - 924s 425ms/step - loss: 0.0434 - accuracy: 0.9862 - val_loss: 2.6799 - val_accuracy: 0.6348\n",
      "Epoch 18/25\n",
      "2175/2175 [==============================] - 947s 436ms/step - loss: 0.0437 - accuracy: 0.9863 - val_loss: 2.6567 - val_accuracy: 0.6266\n",
      "Epoch 19/25\n",
      "2175/2175 [==============================] - 893s 411ms/step - loss: 0.0413 - accuracy: 0.9873 - val_loss: 2.5251 - val_accuracy: 0.6669\n",
      "Epoch 20/25\n",
      "2175/2175 [==============================] - 936s 430ms/step - loss: 0.0389 - accuracy: 0.9877 - val_loss: 2.7272 - val_accuracy: 0.6391\n",
      "Epoch 21/25\n",
      "2175/2175 [==============================] - 1957s 900ms/step - loss: 0.0374 - accuracy: 0.9882 - val_loss: 2.6440 - val_accuracy: 0.6564\n",
      "Epoch 22/25\n",
      "2175/2175 [==============================] - 1723s 792ms/step - loss: 0.0382 - accuracy: 0.9880 - val_loss: 2.9601 - val_accuracy: 0.6434\n",
      "Epoch 23/25\n",
      "2175/2175 [==============================] - 1409s 648ms/step - loss: 0.0360 - accuracy: 0.9889 - val_loss: 3.1146 - val_accuracy: 0.6498\n",
      "Epoch 24/25\n",
      "2175/2175 [==============================] - 1205s 554ms/step - loss: 0.0340 - accuracy: 0.9895 - val_loss: 2.7290 - val_accuracy: 0.6507\n",
      "Epoch 25/25\n",
      "2175/2175 [==============================] - 1226s 564ms/step - loss: 0.0347 - accuracy: 0.9897 - val_loss: 3.2062 - val_accuracy: 0.6130\n"
     ]
    }
   ],
   "source": [
    "history1=model1.fit(training_dataset,\n",
    "              epochs = 25,\n",
    "              validation_data = validation_dataset)\n",
    "model1.save_weights('weights1.h5')"
   ]
  },
  {
   "cell_type": "code",
   "execution_count": 9,
   "id": "dcd1bdac",
   "metadata": {},
   "outputs": [
    {
     "data": {
      "image/png": "[encoded data removed]",
      "text/plain": [
       "<Figure size 432x288 with 1 Axes>"
      ]
     },
     "metadata": {
      "needs_background": "light"
     },
     "output_type": "display_data"
    },
    {
     "data": {
      "image/png": "[encoded data removed]",
      "text/plain": [
       "<Figure size 432x288 with 1 Axes>"
      ]
     },
     "metadata": {
      "needs_background": "light"
     },
     "output_type": "display_data"
    }
   ],
   "source": [
    "from matplotlib import pyplot as plt\n",
    "\n",
    "plt.plot(history1.history['accuracy'])\n",
    "\n",
    "plt.plot(history1.history['val_accuracy'])\n",
    "plt.title('model accuracy')\n",
    "plt.ylabel('accuracy')\n",
    "plt.xlabel('epoch')\n",
    "plt.legend(['train', 'val'], loc='upper left')\n",
    "plt.show()\n",
    "\n",
    "\n",
    "plt.plot(history1.history['loss'])\n",
    "plt.plot(history1.history['val_loss'])\n",
    "plt.title('model loss')\n",
    "plt.ylabel('loss')\n",
    "plt.xlabel('epoch')\n",
    "plt.legend(['train', 'val'], loc='upper left')\n",
    "plt.show()"
   ]
  },
  {
   "cell_type": "code",
   "execution_count": 10,
   "id": "5421bc7c",
   "metadata": {},
   "outputs": [
    {
     "name": "stdout",
     "output_type": "stream",
     "text": [
      "Found 28 images belonging to 29 classes.\n",
      "1/1 [==============================] - 0s 178ms/step - loss: 0.0952 - accuracy: 0.9643\n",
      "0.9642857313156128\n",
      "0.09515198320150375\n"
     ]
    }
   ],
   "source": [
    "# Load weights of a pretrained model\n",
    "test_datagen = tf.keras.preprocessing.image.ImageDataGenerator(rescale = 1./255,shear_range = 0.2,\n",
    "                                   zoom_range = 0.2,\n",
    "                                   horizontal_flip = True)\n",
    "\n",
    "test_set = test_datagen.flow_from_directory('asl_alphabet_test/asl_alphabet_test',\n",
    "                                            target_size = (64, 64),\n",
    "                                            batch_size = 32,\n",
    "                                            class_mode = 'categorical')\n",
    "\n",
    "\n",
    "model1.load_weights(\"weights1.h5\")\n",
    "\n",
    "test_loss, test_acc = model1.evaluate(test_set)\n",
    "print(test_acc)\n",
    "print(test_loss)\n"
   ]
  },
  {
   "cell_type": "code",
   "execution_count": null,
   "id": "40847efb",
   "metadata": {},
   "outputs": [],
   "source": []
  }
 ],
 "metadata": {
  "kernelspec": {
   "display_name": "Python 3 (ipykernel)",
   "language": "python",
   "name": "python3"
  },
  "language_info": {
   "codemirror_mode": {
    "name": "ipython",
    "version": 3
   },
   "file_extension": ".py",
   "mimetype": "text/x-python",
   "name": "python",
   "nbconvert_exporter": "python",
   "pygments_lexer": "ipython3",
   "version": "3.9.7"
  }
 },
 "nbformat": 4,
 "nbformat_minor": 5
}
